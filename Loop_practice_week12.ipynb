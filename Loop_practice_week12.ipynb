{
 "cells": [
  {
   "cell_type": "code",
   "execution_count": 12,
   "metadata": {
    "collapsed": false
   },
   "outputs": [
    {
     "name": "stdout",
     "output_type": "stream",
     "text": [
      "Guess a number2\n",
      "Guess again4\n",
      "Stayed the same\n",
      "Guess again3\n",
      "correct\n"
     ]
    }
   ],
   "source": [
    "def guess_again(a=1,b=10):\n",
    "    number = random.randint(a,b)\n",
    "    guess = input(\"Guess a number\")\n",
    "    int_guess = int(guess)\n",
    "    for i in range(1,5):\n",
    "        if int_guess == number:\n",
    "            print('Correct')\n",
    "            return\n",
    "        else:\n",
    "            new_guess = input (\"Guess again\")\n",
    "            int_new_guess = int(new_guess)\n",
    "            if int_new_guess == number:\n",
    "                print (\"correct\")\n",
    "                return\n",
    "            elif abs(number - int_guess) > abs(number - int_new_guess):\n",
    "                print (\"Getting warmer\")\n",
    "            elif abs(number - int_guess) == abs(number - int_new_guess):\n",
    "                print (\"Stayed the same\")\n",
    "            else:\n",
    "                print (\"Getting colder\")\n",
    "            int_guess = int_new_guess    \n",
    "    if i == 4:         \n",
    "        print (\"You lose\")     \n",
    "    \n",
    "guess_again()\n"
   ]
  },
  {
   "cell_type": "code",
   "execution_count": 10,
   "metadata": {
    "collapsed": false
   },
   "outputs": [
    {
     "ename": "NameError",
     "evalue": "name 'guess_again' is not defined",
     "output_type": "error",
     "traceback": [
      "\u001b[0;31m---------------------------------------------------------------------------\u001b[0m",
      "\u001b[0;31mNameError\u001b[0m                                 Traceback (most recent call last)",
      "\u001b[0;32m<ipython-input-10-de3fbdd5a37f>\u001b[0m in \u001b[0;36m<module>\u001b[0;34m()\u001b[0m\n\u001b[0;32m----> 1\u001b[0;31m \u001b[0mguess_again\u001b[0m\u001b[1;33m(\u001b[0m\u001b[1;33m)\u001b[0m\u001b[1;33m\u001b[0m\u001b[0m\n\u001b[0m",
      "\u001b[0;31mNameError\u001b[0m: name 'guess_again' is not defined"
     ]
    }
   ],
   "source": [
    "guess_again()"
   ]
  },
  {
   "cell_type": "code",
   "execution_count": 9,
   "metadata": {
    "collapsed": false
   },
   "outputs": [
    {
     "name": "stdout",
     "output_type": "stream",
     "text": [
      "Guess a number5\n",
      "Guess again4\n",
      "Guess again3\n",
      "Correct\n"
     ]
    }
   ],
   "source": [
    "def num_guess_again(a,b):\n",
    "    number = random.randint(a,b)\n",
    "    guess = input(\"Guess a number \")\n",
    "    int_guess = int(guess)\n",
    "    while int_guess != number:\n",
    "        guess = input(\"Guess again \")\n",
    "        int_guess = int(guess)\n",
    "    print (\"Correct\")    \n",
    "num_guess_again(1,5)        \n",
    "    "
   ]
  },
  {
   "cell_type": "code",
   "execution_count": 7,
   "metadata": {
    "collapsed": false
   },
   "outputs": [
    {
     "name": "stdout",
     "output_type": "stream",
     "text": [
      "Guess a number7\n",
      "Too High\n",
      "Guess a number5\n",
      "Too High\n",
      "Guess a number1\n",
      "Too low\n",
      "Guess a number4\n",
      "Too High\n",
      "Guess a number9\n",
      "Too High\n",
      "Guess a number8\n",
      "Too High\n",
      "Guess a number3\n",
      "Correct\n"
     ]
    }
   ],
   "source": [
    "import random\n",
    "\n",
    "\n",
    "\n",
    "def number_guess(a=1, b=10):\n",
    "    number = random.randint(a,b)\n",
    "    while True:\n",
    "        guess = input(\"Guess a number\")\n",
    "        int_guess = int(guess)\n",
    "        if int_guess == number:\n",
    "            print(\"Correct\")\n",
    "            break\n",
    "        elif int_guess > number:\n",
    "            print(\"Too High\")\n",
    "        else:\n",
    "            print (\"Too low\")\n",
    "            \n",
    "number_guess()           "
   ]
  },
  {
   "cell_type": "code",
   "execution_count": null,
   "metadata": {
    "collapsed": true
   },
   "outputs": [],
   "source": []
  },
  {
   "cell_type": "code",
   "execution_count": null,
   "metadata": {
    "collapsed": true
   },
   "outputs": [],
   "source": []
  }
 ],
 "metadata": {
  "kernelspec": {
   "display_name": "Python 3",
   "language": "python",
   "name": "python3"
  },
  "language_info": {
   "codemirror_mode": {
    "name": "ipython",
    "version": 3
   },
   "file_extension": ".py",
   "mimetype": "text/x-python",
   "name": "python",
   "nbconvert_exporter": "python",
   "pygments_lexer": "ipython3",
   "version": "3.6.0"
  }
 },
 "nbformat": 4,
 "nbformat_minor": 2
}
